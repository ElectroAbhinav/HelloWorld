{
  "nbformat": 4,
  "nbformat_minor": 0,
  "metadata": {
    "colab": {
      "name": "Core ML Concepts.ipynb",
      "provenance": [],
      "authorship_tag": "ABX9TyOR+zlFUllCzfkIXFupcBT4",
      "include_colab_link": true
    },
    "kernelspec": {
      "name": "python3",
      "display_name": "Python 3"
    }
  },
  "cells": [
    {
      "cell_type": "markdown",
      "metadata": {
        "id": "view-in-github",
        "colab_type": "text"
      },
      "source": [
        "<a href=\"https://colab.research.google.com/github/ElectroAbhinav/HelloWorld/blob/master/Core_ML_Concepts.ipynb\" target=\"_parent\"><img src=\"https://colab.research.google.com/assets/colab-badge.svg\" alt=\"Open In Colab\"/></a>"
      ]
    },
    {
      "cell_type": "code",
      "metadata": {
        "id": "6f9W2kKvC-tm"
      },
      "source": [
        "!pip install -q sklearn\n",
        "%tensorflow_version 2.x"
      ],
      "execution_count": null,
      "outputs": []
    },
    {
      "cell_type": "markdown",
      "metadata": {
        "id": "yfhkFCl9S0nj"
      },
      "source": [
        "**LINEAR REGRESSION**"
      ]
    },
    {
      "cell_type": "code",
      "metadata": {
        "id": "KeIs5xnUGgCB",
        "colab": {
          "base_uri": "https://localhost:8080/"
        },
        "outputId": "e383b451-8c9b-4d31-ee8b-7dc6e0428058"
      },
      "source": [
        "from __future__ import absolute_import, division, print_function, unicode_literals\n",
        "\n",
        "import numpy as np\n",
        "import matplotlib.pyplot as plt\n",
        "import pandas as pd\n",
        "\n",
        "from IPython.display import clear_output\n",
        "from six.moves import urllib\n",
        "\n",
        "import tensorflow.compat.v2.feature_column as fc\n",
        "import tensorflow as tf\n",
        "print(tf.version)"
      ],
      "execution_count": null,
      "outputs": [
        {
          "output_type": "stream",
          "text": [
            "<module 'tensorflow._api.v2.version' from '/usr/local/lib/python3.6/dist-packages/tensorflow/_api/v2/version/__init__.py'>\n"
          ],
          "name": "stdout"
        }
      ]
    },
    {
      "cell_type": "code",
      "metadata": {
        "id": "yyqZrU_vKQD_",
        "colab": {
          "base_uri": "https://localhost:8080/"
        },
        "outputId": "d9f097e4-526b-4da3-a3d2-c2d27d2b3af2"
      },
      "source": [
        "dftrain= pd.read_csv('https://storage.googleapis.com/tf-datasets/titanic/train.csv') #training data\n",
        "dfeval= pd.read_csv('https://storage.googleapis.com/tf-datasets/titanic/eval.csv') #testing data\n",
        "print(dftrain.describe())\n",
        "y_train= dftrain.pop('survived') #removes the column of the surviblity from the data sets and stores it into another variable name of \"y_train\"\n",
        "y_eval= dfeval.pop('survived')"
      ],
      "execution_count": null,
      "outputs": [
        {
          "output_type": "stream",
          "text": [
            "         survived         age  n_siblings_spouses       parch        fare\n",
            "count  627.000000  627.000000          627.000000  627.000000  627.000000\n",
            "mean     0.387560   29.631308            0.545455    0.379585   34.385399\n",
            "std      0.487582   12.511818            1.151090    0.792999   54.597730\n",
            "min      0.000000    0.750000            0.000000    0.000000    0.000000\n",
            "25%      0.000000   23.000000            0.000000    0.000000    7.895800\n",
            "50%      0.000000   28.000000            0.000000    0.000000   15.045800\n",
            "75%      1.000000   35.000000            1.000000    0.000000   31.387500\n",
            "max      1.000000   80.000000            8.000000    5.000000  512.329200\n"
          ],
          "name": "stdout"
        }
      ]
    },
    {
      "cell_type": "code",
      "metadata": {
        "id": "qQBukuU7Az0d"
      },
      "source": [
        "categorical_columns= ['sex', 'n_siblings_spouses', 'parch', 'class', 'deck', 'embark_town', 'alone']\n",
        "numeric_columns= ['age', 'fare']\n",
        "\n",
        "feature_column= []\n",
        "for feature_name in categorical_columns:\n",
        "  vocabulary = dftrain[feature_name].unique() #gets all the unique values from the feature_name\n",
        "  #print(vocabulary)\n",
        "  feature_column.append(tf.feature_column.categorical_column_with_vocabulary_list(feature_name, vocabulary))\n",
        "\n",
        "for feature_name in numeric_columns:\n",
        "  feature_column.append(tf.feature_column.numeric_column(feature_name,dtype=tf.float32))\n",
        "  \n",
        "#print(feature_column)"
      ],
      "execution_count": null,
      "outputs": []
    },
    {
      "cell_type": "code",
      "metadata": {
        "id": "aH4OnMcoNDTA"
      },
      "source": [
        "def make_input_fn(data_df, label_df, num_epochs=12, shuffle=True, batch_size=32):\n",
        "  def input_function():  # inner function, this will be returned\n",
        "    ds = tf.data.Dataset.from_tensor_slices((dict(data_df), label_df))  # create tf.data.Dataset object with data and its label\n",
        "    if shuffle:\n",
        "      ds = ds.shuffle(1000)  # randomize order of data\n",
        "    ds = ds.batch(batch_size).repeat(num_epochs)  # split dataset into batches of 32 and repeat process for number of epochs\n",
        "    return ds  # return a batch of the dataset\n",
        "  return input_function  # return a function object for use\n"
      ],
      "execution_count": null,
      "outputs": []
    },
    {
      "cell_type": "code",
      "metadata": {
        "id": "70R6CDxcNYXV",
        "colab": {
          "base_uri": "https://localhost:8080/"
        },
        "outputId": "bd6a9280-e3bb-4e7b-d774-ed09e11cf73b"
      },
      "source": [
        "train_input_fxn= make_input_fn(dftrain, y_train)\n",
        "eval_output_fxn= make_input_fn(dfeval, y_eval, num_epochs=1, shuffle=False)\n",
        "\n",
        "linear_est= tf.estimator.LinearClassifier(feature_columns=feature_column)\n",
        "linear_est.train(train_input_fxn) #training the model\n",
        "result= linear_est.evaluate(eval_output_fxn) #getting the metrics/standards of the model on Main Dataset(s)\n",
        "\n",
        "clear_output() #clears the console screen\n",
        "print(result['accuracy']) #prints the accuracy of the model trained"
      ],
      "execution_count": null,
      "outputs": [
        {
          "output_type": "stream",
          "text": [
            "0.75\n"
          ],
          "name": "stdout"
        }
      ]
    },
    {
      "cell_type": "markdown",
      "metadata": {
        "id": "ZSZ0zGFMUYo_"
      },
      "source": [
        "If epoch=10, the accuracy of the model is 0.76 but when epoch=12 the accuracy of the model dropped to 0.75!  "
      ]
    },
    {
      "cell_type": "code",
      "metadata": {
        "id": "HaVk41N3RRcz",
        "colab": {
          "base_uri": "https://localhost:8080/"
        },
        "outputId": "2048b0dd-ff4a-4d9e-c950-48e503fb6c23"
      },
      "source": [
        "result= list (linear_est.predict(eval_output_fxn))\n",
        "print(dfeval.loc[2])\n",
        "print(y_eval.loc[2])\n",
        "print(result[2]['probabilities'][1])"
      ],
      "execution_count": null,
      "outputs": [
        {
          "output_type": "stream",
          "text": [
            "INFO:tensorflow:Calling model_fn.\n",
            "WARNING:tensorflow:Layer linear/linear_model is casting an input tensor from dtype float64 to the layer's dtype of float32, which is new behavior in TensorFlow 2.  The layer has dtype float32 because its dtype defaults to floatx.\n",
            "\n",
            "If you intended to run this layer in float32, you can safely ignore this warning. If in doubt, this warning is likely only an issue if you are porting a TensorFlow 1.X model to TensorFlow 2.\n",
            "\n",
            "To change all layers to have dtype float64 by default, call `tf.keras.backend.set_floatx('float64')`. To change just this layer, pass dtype='float64' to the layer constructor. If you are the author of this layer, you can disable autocasting by passing autocast=False to the base Layer constructor.\n",
            "\n",
            "INFO:tensorflow:Done calling model_fn.\n",
            "INFO:tensorflow:Graph was finalized.\n",
            "INFO:tensorflow:Restoring parameters from /tmp/tmp24dn0s_k/model.ckpt-240\n",
            "INFO:tensorflow:Running local_init_op.\n",
            "INFO:tensorflow:Done running local_init_op.\n",
            "sex                        female\n",
            "age                            58\n",
            "n_siblings_spouses              0\n",
            "parch                           0\n",
            "fare                        26.55\n",
            "class                       First\n",
            "deck                            C\n",
            "embark_town           Southampton\n",
            "alone                           y\n",
            "Name: 2, dtype: object\n",
            "1\n",
            "0.8389281\n"
          ],
          "name": "stdout"
        }
      ]
    }
  ]
}